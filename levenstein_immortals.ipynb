{
 "cells": [
  {
   "cell_type": "markdown",
   "metadata": {
    "toc": true
   },
   "source": [
    "<h1>Table of Contents<span class=\"tocSkip\"></span></h1>\n",
    "<div class=\"toc\"><ul class=\"toc-item\"><li><span><a href=\"#Load-and-clean-the-data\" data-toc-modified-id=\"Load-and-clean-the-data-1\"><span class=\"toc-item-num\">1&nbsp;&nbsp;</span>Load and clean the data</a></span></li><li><span><a href=\"#Run-the-algorithm\" data-toc-modified-id=\"Run-the-algorithm-2\"><span class=\"toc-item-num\">2&nbsp;&nbsp;</span>Run the algorithm</a></span><ul class=\"toc-item\"><li><span><a href=\"#Find-the-lines-with-'immortal'\" data-toc-modified-id=\"Find-the-lines-with-'immortal'-2.1\"><span class=\"toc-item-num\">2.1&nbsp;&nbsp;</span>Find the lines with 'immortal'</a></span></li><li><span><a href=\"#Run-the-matches\" data-toc-modified-id=\"Run-the-matches-2.2\"><span class=\"toc-item-num\">2.2&nbsp;&nbsp;</span>Run the matches</a></span><ul class=\"toc-item\"><li><span><a href=\"#75%\" data-toc-modified-id=\"75%-2.2.1\"><span class=\"toc-item-num\">2.2.1&nbsp;&nbsp;</span>75%</a></span></li><li><span><a href=\"#60%\" data-toc-modified-id=\"60%-2.2.2\"><span class=\"toc-item-num\">2.2.2&nbsp;&nbsp;</span>60%</a></span></li><li><span><a href=\"#70%\" data-toc-modified-id=\"70%-2.2.3\"><span class=\"toc-item-num\">2.2.3&nbsp;&nbsp;</span>70%</a></span></li><li><span><a href=\"#65%\" data-toc-modified-id=\"65%-2.2.4\"><span class=\"toc-item-num\">2.2.4&nbsp;&nbsp;</span>65%</a></span></li></ul></li></ul></li><li><span><a href=\"#Find-the-lines-where-'immortal'-is-substituted\" data-toc-modified-id=\"Find-the-lines-where-'immortal'-is-substituted-3\"><span class=\"toc-item-num\">3&nbsp;&nbsp;</span>Find the lines where 'immortal' is substituted</a></span><ul class=\"toc-item\"><li><span><a href=\"#75%-similarity\" data-toc-modified-id=\"75%-similarity-3.1\"><span class=\"toc-item-num\">3.1&nbsp;&nbsp;</span>75% similarity</a></span></li><li><span><a href=\"#70%\" data-toc-modified-id=\"70%-3.2\"><span class=\"toc-item-num\">3.2&nbsp;&nbsp;</span>70%</a></span></li><li><span><a href=\"#65%\" data-toc-modified-id=\"65%-3.3\"><span class=\"toc-item-num\">3.3&nbsp;&nbsp;</span>65%</a></span></li><li><span><a href=\"#60%-similarity\" data-toc-modified-id=\"60%-similarity-3.4\"><span class=\"toc-item-num\">3.4&nbsp;&nbsp;</span>60% similarity</a></span></li></ul></li></ul></div>"
   ]
  },
  {
   "cell_type": "code",
   "execution_count": 3,
   "metadata": {},
   "outputs": [],
   "source": [
    "import pandas as pd\n",
    "import re\n",
    "from fuzzywuzzy import fuzz\n",
    "import string\n",
    "from pandas import json_normalize\n",
    "import json\n",
    "from tqdm.notebook import tqdm \n",
    "from joblib import Parallel, delayed"
   ]
  },
  {
   "cell_type": "markdown",
   "metadata": {},
   "source": [
    "# Load and clean the data"
   ]
  },
  {
   "cell_type": "code",
   "execution_count": 33,
   "metadata": {},
   "outputs": [
    {
     "name": "stdout",
     "output_type": "stream",
     "text": [
      "Number of poems: 42864\n"
     ]
    }
   ],
   "source": [
    "QTS = json_normalize(json.load(open('../data/QTS_JSON_CTEXT_clean_punc_no_comm_no_addnames.json')))\n",
    "QTS['sequence'] = QTS['sequence'].astype('int')\n",
    "print (f\"Number of poems: {len(QTS)}\")"
   ]
  },
  {
   "cell_type": "code",
   "execution_count": 34,
   "metadata": {},
   "outputs": [],
   "source": [
    "def clean(content, ids):\n",
    "    poem = ' '.join(content)\n",
    "    lines = re.split(\"[，。]\", poem)\n",
    "    clean_lines = [[ids, re.sub(' ', '', line)] for line in lines if line != '']\n",
    "    return clean_lines"
   ]
  },
  {
   "cell_type": "code",
   "execution_count": 35,
   "metadata": {},
   "outputs": [],
   "source": [
    "data = QTS.copy()"
   ]
  },
  {
   "cell_type": "code",
   "execution_count": 36,
   "metadata": {},
   "outputs": [],
   "source": [
    "data['lines'] = data.apply(\n",
    "    lambda row: clean(content=row['content'], ids=f\"{row['volume']}_{row['sequence']}\"), axis=1)\n",
    "all_lines_list = data['lines'].tolist()"
   ]
  },
  {
   "cell_type": "code",
   "execution_count": 37,
   "metadata": {},
   "outputs": [],
   "source": [
    "all_lines = [item for sublist in all_lines_list for item in sublist]"
   ]
  },
  {
   "cell_type": "markdown",
   "metadata": {},
   "source": [
    "# Run the algorithm"
   ]
  },
  {
   "cell_type": "markdown",
   "metadata": {},
   "source": [
    "## Find the lines with 'immortal'"
   ]
  },
  {
   "cell_type": "markdown",
   "metadata": {},
   "source": [
    "First, sort out all lines that contain the word 'immortal' in them, saving the poem id."
   ]
  },
  {
   "cell_type": "code",
   "execution_count": 50,
   "metadata": {},
   "outputs": [],
   "source": [
    "new_lines = all_lines.copy()\n",
    "source_lines = [line for line in all_lines if '仙' in line[1]]"
   ]
  },
  {
   "cell_type": "code",
   "execution_count": 41,
   "metadata": {},
   "outputs": [
    {
     "data": {
      "text/plain": [
       "['1_18', '仙氣凝三嶺']"
      ]
     },
     "execution_count": 41,
     "metadata": {},
     "output_type": "execute_result"
    }
   ],
   "source": [
    "source_lines[1]"
   ]
  },
  {
   "cell_type": "code",
   "execution_count": 49,
   "metadata": {},
   "outputs": [
    {
     "name": "stdout",
     "output_type": "stream",
     "text": [
      "There are 3475 lines that contain the word 'immortal'.\n",
      "In 25 cases the word appears more than once in a line. So the count of '仙' is larger than the count of the lines found.\n"
     ]
    }
   ],
   "source": [
    "print (f\"There are {len(source_lines)} lines that contain the word 'immortal'.\")\n",
    "print (f\"In {len([i for i in source_lines if list(i[1]).count('仙') >1])} cases the word appears more than once in a line. \\\n",
    "So the count of '仙' is larger than the count of the lines found.\")"
   ]
  },
  {
   "cell_type": "markdown",
   "metadata": {},
   "source": [
    "## Run the matches"
   ]
  },
  {
   "cell_type": "code",
   "execution_count": 119,
   "metadata": {},
   "outputs": [],
   "source": [
    "def find_matches(source_line, al, similarity):\n",
    "    matches = []\n",
    "    for target_line in al:\n",
    "        if fuzz.ratio(source_line[1], target_line[1]) > similarity:\n",
    "            #all_words_dict[source_line].append(target_line)\n",
    "            #all_words_dict[target_line].append(source_line)\n",
    "            matches.append(target_line)\n",
    "        else:\n",
    "            continue      \n",
    "    return matches"
   ]
  },
  {
   "cell_type": "markdown",
   "metadata": {},
   "source": [
    "### 75%"
   ]
  },
  {
   "cell_type": "code",
   "execution_count": 53,
   "metadata": {},
   "outputs": [
    {
     "data": {
      "application/vnd.jupyter.widget-view+json": {
       "model_id": "a5ac65a9c4e94145a610da6038075865",
       "version_major": 2,
       "version_minor": 0
      },
      "text/plain": [
       "HBox(children=(HTML(value=''), FloatProgress(value=0.0, max=3475.0), HTML(value='')))"
      ]
     },
     "metadata": {},
     "output_type": "display_data"
    },
    {
     "name": "stdout",
     "output_type": "stream",
     "text": [
      "\n"
     ]
    }
   ],
   "source": [
    "all_matches = Parallel(n_jobs=4)(delayed(find_matches)(line, new_lines[:], 75) for line in tqdm(source_lines[:]))"
   ]
  },
  {
   "cell_type": "markdown",
   "metadata": {},
   "source": [
    "Clean and record results"
   ]
  },
  {
   "cell_type": "code",
   "execution_count": 55,
   "metadata": {},
   "outputs": [],
   "source": [
    "out = open('immortals_id_matches.txt', 'w')\n",
    "for i in all_matches:\n",
    "    out.write(f\"{i}\\n\")"
   ]
  },
  {
   "cell_type": "code",
   "execution_count": 57,
   "metadata": {},
   "outputs": [
    {
     "data": {
      "text/plain": [
       "3475"
      ]
     },
     "execution_count": 57,
     "metadata": {},
     "output_type": "execute_result"
    }
   ],
   "source": [
    "len(all_matches)"
   ]
  },
  {
   "cell_type": "markdown",
   "metadata": {},
   "source": [
    "Remove lines that didn't match any others (only the source line is recorded)."
   ]
  },
  {
   "cell_type": "code",
   "execution_count": 59,
   "metadata": {
    "scrolled": true
   },
   "outputs": [
    {
     "name": "stdout",
     "output_type": "stream",
     "text": [
      "There are 352 lines that matched something else.\n"
     ]
    }
   ],
   "source": [
    "matched_lines = [i for i in all_matches if len(i)>1]\n",
    "print (f\"There are {len(matched_lines)} lines that matched something else.\")"
   ]
  },
  {
   "cell_type": "markdown",
   "metadata": {},
   "source": [
    "Remove duplicates (if line A is matched to line B and the line B is matched to line A, then the second instance is a duplicate and is removed)."
   ]
  },
  {
   "cell_type": "code",
   "execution_count": 60,
   "metadata": {},
   "outputs": [
    {
     "data": {
      "application/vnd.jupyter.widget-view+json": {
       "model_id": "86e5e420bb444a3799b011089f61b925",
       "version_major": 2,
       "version_minor": 0
      },
      "text/plain": [
       "HBox(children=(HTML(value=''), FloatProgress(value=0.0, max=352.0), HTML(value='')))"
      ]
     },
     "metadata": {},
     "output_type": "display_data"
    },
    {
     "name": "stdout",
     "output_type": "stream",
     "text": [
      "\n"
     ]
    }
   ],
   "source": [
    "no_duplicates = []\n",
    "for i in tqdm(matched_lines):\n",
    "    line = sorted(i)\n",
    "    if line in no_duplicates:\n",
    "        continue\n",
    "    else:\n",
    "        no_duplicates.append(line)"
   ]
  },
  {
   "cell_type": "code",
   "execution_count": 64,
   "metadata": {},
   "outputs": [
    {
     "name": "stdout",
     "output_type": "stream",
     "text": [
      "There are 190 lines that uniquely match to others.\n",
      "Out of those only 22 have a line that has similar ones across more then two poems.\n"
     ]
    }
   ],
   "source": [
    "print (f\"There are {len(no_duplicates)} lines that uniquely match to others.\")\n",
    "print (f\"Out of those only {len([i for i in no_duplicates if len(i) >2])} \\\n",
    "have a line that has similar ones across more then two poems.\")"
   ]
  },
  {
   "cell_type": "code",
   "execution_count": 66,
   "metadata": {},
   "outputs": [],
   "source": [
    "out2=open('immortals_unique_matches_with_id.txt', 'w')\n",
    "b = sorted(no_duplicates, reverse=True, key=len)\n",
    "for i in b:\n",
    "    out2.write(f\"{i}\\n\")\n"
   ]
  },
  {
   "cell_type": "markdown",
   "metadata": {},
   "source": [
    "### 60%"
   ]
  },
  {
   "cell_type": "code",
   "execution_count": 68,
   "metadata": {},
   "outputs": [
    {
     "data": {
      "application/vnd.jupyter.widget-view+json": {
       "model_id": "cbd9426d57b34ceba99a613cadaa17b5",
       "version_major": 2,
       "version_minor": 0
      },
      "text/plain": [
       "HBox(children=(HTML(value=''), FloatProgress(value=0.0, max=3475.0), HTML(value='')))"
      ]
     },
     "metadata": {},
     "output_type": "display_data"
    },
    {
     "name": "stdout",
     "output_type": "stream",
     "text": [
      "\n"
     ]
    }
   ],
   "source": [
    "all_matches2 = Parallel(n_jobs=4)(delayed(find_matches)(line, new_lines[:],60) for line in tqdm(source_lines[:]))"
   ]
  },
  {
   "cell_type": "markdown",
   "metadata": {},
   "source": [
    "Clean and record"
   ]
  },
  {
   "cell_type": "code",
   "execution_count": 69,
   "metadata": {},
   "outputs": [],
   "source": [
    "out = open('immortals_id_matches60.txt', 'w')\n",
    "for i in all_matches2:\n",
    "    out.write(f\"{i}\\n\")"
   ]
  },
  {
   "cell_type": "code",
   "execution_count": 70,
   "metadata": {},
   "outputs": [
    {
     "data": {
      "text/plain": [
       "3475"
      ]
     },
     "execution_count": 70,
     "metadata": {},
     "output_type": "execute_result"
    }
   ],
   "source": [
    "len(all_matches2)"
   ]
  },
  {
   "cell_type": "code",
   "execution_count": 76,
   "metadata": {},
   "outputs": [
    {
     "name": "stdout",
     "output_type": "stream",
     "text": [
      "There are 611 lines that are more than 60% similar to something else.\n",
      "This is 259 more than for 75% similarity.\n"
     ]
    }
   ],
   "source": [
    "#Remove those that didn't match and duplicates\n",
    "\n",
    "matched_lines2 = [i for i in all_matches2 if len(i)>1]\n",
    "print (f\"There are {len(matched_lines2)} lines that are more than 60% similar to something else.\\n\\\n",
    "This is {len(matched_lines2) - len(matched_lines)} more than for 75% similarity.\")"
   ]
  },
  {
   "cell_type": "code",
   "execution_count": 83,
   "metadata": {},
   "outputs": [
    {
     "data": {
      "application/vnd.jupyter.widget-view+json": {
       "model_id": "d8ebb378d6dd488b92cb11eb4eb47f01",
       "version_major": 2,
       "version_minor": 0
      },
      "text/plain": [
       "HBox(children=(HTML(value=''), FloatProgress(value=0.0, max=611.0), HTML(value='')))"
      ]
     },
     "metadata": {},
     "output_type": "display_data"
    },
    {
     "name": "stdout",
     "output_type": "stream",
     "text": [
      "\n"
     ]
    }
   ],
   "source": [
    "no_duplicates2 = []\n",
    "for i in tqdm(matched_lines2):\n",
    "    line = sorted(i)\n",
    "    if line in no_duplicates2:\n",
    "        continue\n",
    "    else:\n",
    "        no_duplicates2.append(line)"
   ]
  },
  {
   "cell_type": "code",
   "execution_count": 86,
   "metadata": {},
   "outputs": [
    {
     "name": "stdout",
     "output_type": "stream",
     "text": [
      "There are 414 lines that uniquely match to others.\n",
      "Out of those 119 have a line that has similar ones across more then two poems.\n"
     ]
    }
   ],
   "source": [
    "print (f\"There are {len(no_duplicates2)} lines that uniquely match to others.\")\n",
    "print (f\"Out of those {len([i for i in no_duplicates2 if len(i) >2])} \\\n",
    "have a line that has similar ones across more then two poems.\")"
   ]
  },
  {
   "cell_type": "code",
   "execution_count": 87,
   "metadata": {},
   "outputs": [],
   "source": [
    "out2=open('immortals_unique_matches_with_id60.txt', 'w')\n",
    "b = sorted(no_duplicates2, reverse=True, key=len)\n",
    "for i in b:\n",
    "    out2.write(f\"{i}\\n\")"
   ]
  },
  {
   "cell_type": "markdown",
   "metadata": {},
   "source": [
    "### 70%"
   ]
  },
  {
   "cell_type": "code",
   "execution_count": 120,
   "metadata": {},
   "outputs": [
    {
     "data": {
      "application/vnd.jupyter.widget-view+json": {
       "model_id": "5f20afe3d5a347eda039a27c15dd5618",
       "version_major": 2,
       "version_minor": 0
      },
      "text/plain": [
       "HBox(children=(HTML(value=''), FloatProgress(value=0.0, max=3475.0), HTML(value='')))"
      ]
     },
     "metadata": {},
     "output_type": "display_data"
    },
    {
     "name": "stdout",
     "output_type": "stream",
     "text": [
      "\n",
      "\n",
      "\n"
     ]
    }
   ],
   "source": [
    "all_matches70 = Parallel(n_jobs=4)(delayed(find_matches)(line, new_lines[:],70) for line in tqdm(source_lines[:]))"
   ]
  },
  {
   "cell_type": "code",
   "execution_count": 121,
   "metadata": {},
   "outputs": [
    {
     "data": {
      "text/plain": [
       "3475"
      ]
     },
     "execution_count": 121,
     "metadata": {},
     "output_type": "execute_result"
    }
   ],
   "source": [
    "out = open('immortals_id_matches70.txt', 'w')\n",
    "for i in all_matches70:\n",
    "    out.write(f\"{i}\\n\")\n",
    "len(all_matches70)"
   ]
  },
  {
   "cell_type": "code",
   "execution_count": 139,
   "metadata": {},
   "outputs": [
    {
     "name": "stdout",
     "output_type": "stream",
     "text": [
      "There are 396 lines that are more than 70% similar to something else.\n",
      "This is 44 more than for 75% similarity.\n"
     ]
    }
   ],
   "source": [
    "#Remove those that didn't match and duplicates\n",
    "\n",
    "matched_lines70 = [i for i in all_matches70 if len(i)>1]\n",
    "print (f\"There are {len(matched_lines70)} lines that are more than 70% similar to something else.\\n\\\n",
    "This is {len(matched_lines70) - len(matched_lines)} more than for 75% similarity.\")"
   ]
  },
  {
   "cell_type": "code",
   "execution_count": 123,
   "metadata": {},
   "outputs": [
    {
     "data": {
      "application/vnd.jupyter.widget-view+json": {
       "model_id": "eb4d92eb0f8c405eb9612408b91d94cf",
       "version_major": 2,
       "version_minor": 0
      },
      "text/plain": [
       "HBox(children=(HTML(value=''), FloatProgress(value=0.0, max=396.0), HTML(value='')))"
      ]
     },
     "metadata": {},
     "output_type": "display_data"
    },
    {
     "name": "stdout",
     "output_type": "stream",
     "text": [
      "\n"
     ]
    }
   ],
   "source": [
    "no_duplicates70 = []\n",
    "for i in tqdm(matched_lines70):\n",
    "    line = sorted(i)\n",
    "    if line in no_duplicates70:\n",
    "        continue\n",
    "    else:\n",
    "        no_duplicates70.append(line)"
   ]
  },
  {
   "cell_type": "code",
   "execution_count": 124,
   "metadata": {},
   "outputs": [
    {
     "name": "stdout",
     "output_type": "stream",
     "text": [
      "There are 224 lines that uniquely match to others.\n",
      "Out of those 40 have a line that has similar ones across more then two poems.\n"
     ]
    }
   ],
   "source": [
    "print (f\"There are {len(no_duplicates70)} lines that uniquely match to others.\")\n",
    "print (f\"Out of those {len([i for i in no_duplicates70 if len(i) >2])} \\\n",
    "have a line that has similar ones across more then two poems.\")"
   ]
  },
  {
   "cell_type": "code",
   "execution_count": 125,
   "metadata": {},
   "outputs": [],
   "source": [
    "out2=open('immortals_unique_matches_with_id70.txt', 'w')\n",
    "b = sorted(no_duplicates70, reverse=True, key=len)\n",
    "for i in b:\n",
    "    out2.write(f\"{i}\\n\")"
   ]
  },
  {
   "cell_type": "markdown",
   "metadata": {},
   "source": [
    "### 65%"
   ]
  },
  {
   "cell_type": "code",
   "execution_count": 126,
   "metadata": {},
   "outputs": [
    {
     "data": {
      "application/vnd.jupyter.widget-view+json": {
       "model_id": "cf1cae6dc44b49fca53b1fc692dfc2c1",
       "version_major": 2,
       "version_minor": 0
      },
      "text/plain": [
       "HBox(children=(HTML(value=''), FloatProgress(value=0.0, max=3475.0), HTML(value='')))"
      ]
     },
     "metadata": {},
     "output_type": "display_data"
    },
    {
     "name": "stdout",
     "output_type": "stream",
     "text": [
      "\n",
      "There are 603 lines that are more than 60% similar to something else.\n",
      "This is 251 more than for 75% similarity.\n"
     ]
    },
    {
     "data": {
      "application/vnd.jupyter.widget-view+json": {
       "model_id": "b456a073f5484e399cd6fb2b9ca7e6de",
       "version_major": 2,
       "version_minor": 0
      },
      "text/plain": [
       "HBox(children=(HTML(value=''), FloatProgress(value=0.0, max=603.0), HTML(value='')))"
      ]
     },
     "metadata": {},
     "output_type": "display_data"
    },
    {
     "name": "stdout",
     "output_type": "stream",
     "text": [
      "\n",
      "There are 405 lines that uniquely match to others.\n",
      "Out of those 116 have a line that has similar ones across more then two poems.\n"
     ]
    }
   ],
   "source": [
    "all_matches65 = Parallel(n_jobs=4)(delayed(find_matches)(line, new_lines[:],65) for line in tqdm(source_lines[:]))\n",
    "\n",
    "out = open('immortals_id_matches65.txt', 'w')\n",
    "for i in all_matches65:\n",
    "    out.write(f\"{i}\\n\")\n",
    "len(all_matches65)"
   ]
  },
  {
   "cell_type": "code",
   "execution_count": 140,
   "metadata": {},
   "outputs": [
    {
     "name": "stdout",
     "output_type": "stream",
     "text": [
      "There are 603 lines that are more than 65% similar to something else.\n",
      "This is 251 more than for 75% similarity.\n"
     ]
    },
    {
     "data": {
      "application/vnd.jupyter.widget-view+json": {
       "model_id": "f529efd2be3b4141bbff9a08ee7c926e",
       "version_major": 2,
       "version_minor": 0
      },
      "text/plain": [
       "HBox(children=(HTML(value=''), FloatProgress(value=0.0, max=603.0), HTML(value='')))"
      ]
     },
     "metadata": {},
     "output_type": "display_data"
    },
    {
     "name": "stdout",
     "output_type": "stream",
     "text": [
      "\n",
      "There are 405 lines that uniquely match to others.\n",
      "Out of those 116 have a line that has similar ones across more then two poems.\n"
     ]
    }
   ],
   "source": [
    "\n",
    "#Remove those that didn't match and duplicates\n",
    "\n",
    "matched_lines65 = [i for i in all_matches65 if len(i)>1]\n",
    "print (f\"There are {len(matched_lines65)} lines that are more than 65% similar to something else.\\n\\\n",
    "This is {len(matched_lines65) - len(matched_lines)} more than for 75% similarity.\")\n",
    "\n",
    "no_duplicates65 = []\n",
    "for i in tqdm(matched_lines65):\n",
    "    line = sorted(i)\n",
    "    if line in no_duplicates65:\n",
    "        continue\n",
    "    else:\n",
    "        no_duplicates65.append(line)\n",
    "\n",
    "print (f\"There are {len(no_duplicates65)} lines that uniquely match to others.\")\n",
    "print (f\"Out of those {len([i for i in no_duplicates65 if len(i) >2])} \\\n",
    "have a line that has similar ones across more then two poems.\")\n",
    "\n",
    "out2=open('immortals_unique_matches_with_id65.txt', 'w')\n",
    "b = sorted(no_duplicates65, reverse=True, key=len)\n",
    "for i in b:\n",
    "    out2.write(f\"{i}\\n\")"
   ]
  },
  {
   "cell_type": "markdown",
   "metadata": {},
   "source": [
    "# Find the lines where 'immortal' is substituted"
   ]
  },
  {
   "cell_type": "markdown",
   "metadata": {},
   "source": [
    "## 75% similarity"
   ]
  },
  {
   "cell_type": "code",
   "execution_count": 134,
   "metadata": {},
   "outputs": [
    {
     "data": {
      "application/vnd.jupyter.widget-view+json": {
       "model_id": "032b5c1eda8144b2bd67c4423c4af6db",
       "version_major": 2,
       "version_minor": 0
      },
      "text/plain": [
       "HBox(children=(HTML(value=''), FloatProgress(value=0.0, max=190.0), HTML(value='')))"
      ]
     },
     "metadata": {},
     "output_type": "display_data"
    },
    {
     "name": "stdout",
     "output_type": "stream",
     "text": [
      "\n"
     ]
    }
   ],
   "source": [
    "xian_substituted75 = []\n",
    "for group in tqdm(no_duplicates):\n",
    "    if len(group) > len([i for i in group if '仙' in i[1]]):\n",
    "        xian_substituted75.append(group)"
   ]
  },
  {
   "cell_type": "code",
   "execution_count": 135,
   "metadata": {},
   "outputs": [
    {
     "name": "stdout",
     "output_type": "stream",
     "text": [
      "There are 19 cases in 75% similar lines where xian is substituted.\n"
     ]
    }
   ],
   "source": [
    "print (f\"There are {len(xian_substituted75)} cases in 75% similar lines where xian is substituted.\")"
   ]
  },
  {
   "cell_type": "code",
   "execution_count": 136,
   "metadata": {},
   "outputs": [
    {
     "name": "stdout",
     "output_type": "stream",
     "text": [
      "['故人不可見', '故人不可見', '故人不可見', '故人不可見', '仙人不見我', '此人不可見', '古人不可見', '上仙不可見', '故人不可見', '故人不可見', '遊人不可見', '故人不可見', '仙人不可見', '仙舟不可見', '神仙不可見'] \n",
      "\n",
      "['暗從何處來', '問從何處來', '子從何處來', '又從何處來', '三從何處來', '仙從何處來'] \n",
      "\n",
      "['通籍在金閨', '通籍在金閨', '已通仙籍在金閨'] \n",
      "\n",
      "['叢簧發仙弄', '叢簧發天弄'] \n",
      "\n",
      "['仙人何處在', '美人何處在'] \n",
      "\n",
      "['雲歸帝鄉遠', '雲歸仙帝鄉'] \n",
      "\n",
      "['玉醴浮金菊', '玉醴浮仙菊'] \n",
      "\n",
      "['東風吹雪舞山家', '東風吹雪舞仙家'] \n",
      "\n",
      "['五雲抱仙殿', '五雲抱山殿'] \n",
      "\n",
      "['我思仙人乃在碧海之東隅', '乃在碧海之東隅'] \n",
      "\n",
      "['雞犬逐人靜', '仙犬逐人靜'] \n",
      "\n",
      "['郎官能賦許依投', '仙郎能賦許依投'] \n",
      "\n",
      "['眾香天上梵仙宮', '眾香天上梵王宮'] \n",
      "\n",
      "['仙人居其中', '人乃居其中'] \n",
      "\n",
      "['門前便是嵩山路', '門前便是仙山路'] \n",
      "\n",
      "['曾向此中游', '神仙曾向此中游'] \n",
      "\n",
      "['嘗聞古老言', '嘗聞仙老言'] \n",
      "\n",
      "['仿佛列山群', '仿佛列仙群'] \n",
      "\n",
      "['看雲忽見仙', '看雲忽見山'] \n",
      "\n"
     ]
    }
   ],
   "source": [
    "for i in sorted(xian_substituted75, key=len, reverse=True):\n",
    "    group = [n[1] for n in i]\n",
    "    print(group, '\\n')"
   ]
  },
  {
   "cell_type": "markdown",
   "metadata": {},
   "source": [
    "## 70%"
   ]
  },
  {
   "cell_type": "code",
   "execution_count": 133,
   "metadata": {},
   "outputs": [
    {
     "data": {
      "application/vnd.jupyter.widget-view+json": {
       "model_id": "f8f20f54508f4301affb31c4516052c5",
       "version_major": 2,
       "version_minor": 0
      },
      "text/plain": [
       "HBox(children=(HTML(value=''), FloatProgress(value=0.0, max=224.0), HTML(value='')))"
      ]
     },
     "metadata": {},
     "output_type": "display_data"
    },
    {
     "name": "stdout",
     "output_type": "stream",
     "text": [
      "\n",
      "There are 40 cases in 70% similar lines where xian is substituted.\n",
      "\n",
      "['故人不可見', '故人不可見', '故人不可見', '故人不可見', '仙人不見我', '此人不可見', '古人不可見', '上仙不可見', '故人不可見', '故人不可見', '遊人不可見', '故人不可見', '仙人不可見', '仙舟不可見', '人不見', '神仙不可見'] \n",
      "\n",
      "['歌宛轉', '歌宛轉', '歌宛轉', '歌宛轉', '歌宛轉', '歌宛轉', '仙歌宛轉聽', '仙歌宛轉聽', '歌宛轉', '歌宛轉', '歌宛轉', '歌宛轉'] \n",
      "\n",
      "['不知精爽歸何處', '不知仙駕歸何處', '不知此地歸何處', '不知雲雨歸何處', '不知雲雨歸何處', '不知功滿歸何處', '不知何處'] \n",
      "\n",
      "['可中得似紅兒貌', '得似紅兒今日貌', '神仙得似紅兒貌', '稍教得似紅兒貌', '若教得似紅兒貌', '若教得似紅兒貌', '阿嬌得似紅兒貌'] \n",
      "\n",
      "['暗從何處來', '問從何處來', '子從何處來', '又從何處來', '三從何處來', '仙從何處來'] \n",
      "\n",
      "['不可得', '神仙不可求', '神仙不可得', '神仙不可學', '神仙不可見'] \n",
      "\n",
      "['壺中別有日月天', '應是壺中別有家', '壺中別有仙家日', '應是壺中別有家'] \n",
      "\n",
      "['卻向人間作酒徒', '且向人間作酒仙', '罰向人間作酒狂', '謫向人間作酒狂'] \n",
      "\n",
      "['仙雲在何處', '仙雲在何處', '在何處'] \n",
      "\n",
      "['仙人不見我', '仙人不可見', '人不見'] \n",
      "\n",
      "['門前便是家山道', '門前便是嵩山路', '門前便是仙山路'] \n",
      "\n",
      "['先皇曾向此中游', '曾向此中游', '神仙曾向此中游'] \n",
      "\n",
      "['通籍在金閨', '通籍在金閨', '已通仙籍在金閨'] \n",
      "\n",
      "['三千功滿仙升去', '三千功滿好歸去', '三千功滿去升天'] \n",
      "\n",
      "['不知何處是天真', '不知何處偶真仙', '不知何處'] \n",
      "\n",
      "['叢簧發仙弄', '叢簧發天弄'] \n",
      "\n",
      "['仙人何處在', '美人何處在'] \n",
      "\n",
      "['雲歸帝鄉遠', '雲歸仙帝鄉'] \n",
      "\n",
      "['玉醴浮金菊', '玉醴浮仙菊'] \n",
      "\n",
      "['東風吹雪舞山家', '東風吹雪舞仙家'] \n",
      "\n",
      "['仙人樓上鳳凰飛', '樓上鳳凰飛去後'] \n",
      "\n",
      "['仙尉其何如', '其何如'] \n",
      "\n",
      "['五雲抱仙殿', '五雲抱山殿'] \n",
      "\n",
      "['我思仙人乃在碧海之東隅', '乃在碧海之東隅'] \n",
      "\n",
      "['授以仙藥', '授以神藥'] \n",
      "\n",
      "['始知萬族無不有', '始知仙事無不有'] \n",
      "\n",
      "['雞犬逐人靜', '仙犬逐人靜'] \n",
      "\n",
      "['貌棱棱', '仙貌玉棱棱'] \n",
      "\n",
      "['郎官能賦許依投', '仙郎能賦許依投'] \n",
      "\n",
      "['眾香天上梵仙宮', '眾香天上梵王宮'] \n",
      "\n",
      "['仙人居其中', '人乃居其中'] \n",
      "\n",
      "['不知誰是豔陽才', '不知誰是謫仙才'] \n",
      "\n",
      "['曉上青樓十二重', '正上仙樓十二重'] \n",
      "\n",
      "['仙吏不知何處隱', '不知何處'] \n",
      "\n",
      "['神歸碧落', '要伴神仙歸碧落'] \n",
      "\n",
      "['嘗聞古老言', '嘗聞仙老言'] \n",
      "\n",
      "['此去臨溪不是遙', '此去仙源不是遙'] \n",
      "\n",
      "['仿佛列山群', '仿佛列仙群'] \n",
      "\n",
      "['看雲忽見仙', '看雲忽見山'] \n",
      "\n",
      "['當時不得將軍力', '當時不得仙桃力'] \n",
      "\n"
     ]
    }
   ],
   "source": [
    "xian_substituted70 = []\n",
    "for group in tqdm(no_duplicates70):\n",
    "    if len(group) > len([i for i in group if '仙' in i[1]]):\n",
    "        xian_substituted70.append(group)\n",
    "\n",
    "print (f\"There are {len(xian_substituted70)} cases in 70% similar lines where xian is substituted.\\n\")\n",
    "\n",
    "for i in sorted(xian_substituted70, key=len, reverse=True):\n",
    "    group = [n[1] for n in i]\n",
    "    print(group, '\\n')"
   ]
  },
  {
   "cell_type": "markdown",
   "metadata": {},
   "source": [
    "## 65%"
   ]
  },
  {
   "cell_type": "code",
   "execution_count": 138,
   "metadata": {},
   "outputs": [
    {
     "data": {
      "application/vnd.jupyter.widget-view+json": {
       "model_id": "659084bca2534fa89e4b02a2f53bb992",
       "version_major": 2,
       "version_minor": 0
      },
      "text/plain": [
       "HBox(children=(HTML(value=''), FloatProgress(value=0.0, max=405.0), HTML(value='')))"
      ]
     },
     "metadata": {},
     "output_type": "display_data"
    },
    {
     "name": "stdout",
     "output_type": "stream",
     "text": [
      "\n",
      "There are 123 cases in 65% similar lines where xian is substituted.\n",
      "\n",
      "['故人不可見', '故人不可見', '故人不可見', '西憶故人不可見', '故人不可見', '仙人不見我', '此人不可見', '京師故人不可見', '古人不可見', '上仙不可見', '故人不可見', '故人不可見', '遊人不可見', '故人不可見', '人間想望不可見', '海上仙遊不可見', '仙人不可見', '仙舟不可見', '人不見', '神仙不可見'] \n",
      "\n",
      "['不知何處火', '不知何處恨', '不知何處去', '不知何處葬', '不知此何處', '不知何處歸', '不知精爽歸何處', '不知仙駕歸何處', '不知此地歸何處', '不知何處笛', '不知雲雨歸何處', '不知雲雨歸何處', '仙馭歸何處', '不知何處峰', '不知功滿歸何處', '不知何處', '不知何處火'] \n",
      "\n",
      "['歌宛轉', '歌宛轉', '歌宛轉', '歌宛轉', '歌宛轉', '歌宛轉', '仙歌宛轉聽', '仙歌宛轉聽', '歌宛轉', '歌宛轉', '歌宛轉', '歌宛轉'] \n",
      "\n",
      "['不知何處火', '仙源不知處', '不知何處恨', '不知何處去', '不知何處葬', '不知此何處', '不知何處歸', '仙吏不知何處隱', '不知何處笛', '不知何處峰', '不知何處', '不知何處火'] \n",
      "\n",
      "['不知何處火', '不知何處恨', '不知何處去', '不知何處葬', '不知此何處', '不知何處歸', '不知何處笛', '不知何處峰', '不知何處是天真', '不知何處偶真仙', '不知何處', '不知何處火'] \n",
      "\n",
      "['神仙中人不易得', '神仙望見不得到', '不可得', '神仙不可求', '神仙不可得', '神仙不可學', '聞道神仙不可接', '神仙不可見'] \n",
      "\n",
      "['笑問客從何處來', '暗從何處來', '問從何處來', '子從何處來', '又從何處來', '幽鳥晚從何處來', '三從何處來', '仙從何處來'] \n",
      "\n",
      "['仙雲在何處', '仙雲在何處', '在何處', '欲問神仙在何處', '兩漢真仙在何處', '孤雲自在知何處', '雲中有寺在何處'] \n",
      "\n",
      "['自言神訣不可求', '神仙不可求', '神仙不可得', '神仙不可學', '聞道神仙不可接', '神仙不可見', '仙笙不可求'] \n",
      "\n",
      "['可中得似紅兒貌', '得似紅兒今日貌', '神仙得似紅兒貌', '稍教得似紅兒貌', '若教得似紅兒貌', '若教得似紅兒貌', '阿嬌得似紅兒貌'] \n",
      "\n",
      "['勸此一杯酒', '勸爾一杯酒', '遙勸仙人一杯酒', '勸僧一杯酒', '勸爾一杯酒', '勸爾一杯酒'] \n",
      "\n",
      "['仙宮一閉無消息', '一月無消息', '一別無消息', '一月無消息', '一別無消息', '一去無消息'] \n",
      "\n",
      "['通籍入金閨', '通籍在金閨', '通籍盡金閨', '通籍在金閨', '籍在金閨內', '已通仙籍在金閨'] \n",
      "\n",
      "['上仙不可見', '遊人不可見', '海上仙遊不可見', '仙人不可見', '仙舟不可見', '神仙不可見'] \n",
      "\n",
      "['靈仙仿佛', '靈仙如仿佛', '夢靈仿佛到', '仙佛肖仿佛', '靈境若仿佛'] \n",
      "\n",
      "['仙家日月長', '仙家日月長', '卻厭仙家日月長', '此地安家日月長', '仙家日月蓬壺裏'] \n",
      "\n",
      "['三十六峰晴', '三十六峰仙鶴老', '三十六峰前', '三十六峰鄰', '三十六峰前'] \n",
      "\n",
      "['別自有仙家', '壺中別有日月天', '應是壺中別有家', '壺中別有仙家日', '應是壺中別有家'] \n",
      "\n",
      "['曉上青樓十二重', '青樓十二重', '正上仙樓十二重', '玉樓十二重', '樓臺十二重'] \n",
      "\n",
      "['月中有桂樹', '月中有桂樹', '月中分桂樹', '不得月中桂', '想得月中仙桂樹'] \n",
      "\n",
      "['卻向人間作酒徒', '人間作散仙', '且向人間作酒仙', '罰向人間作酒狂', '謫向人間作酒狂'] \n",
      "\n",
      "['今夜神仙女', '日聽神仙說', '今日海神朝', '今日神仙', '神仙'] \n",
      "\n",
      "['我思仙人', '呼我謫仙人', '我思何人知', '我思攜手人'] \n",
      "\n",
      "['人面不知何處在', '仙人何處在', '美人何處在', '悵望佳人何處在'] \n",
      "\n",
      "['雲歸帝鄉遠', '白雲歸處帝鄉遙', '雲歸仙帝鄉', '心似白雲歸帝鄉'] \n",
      "\n",
      "['仙駕飄颻不可期', '仙成不可期', '仙駕不可望', '飄颻不可覿'] \n",
      "\n",
      "['仙源不知處', '仙吏不知何處隱', '仙骨寒消不知處', '不知何處'] \n",
      "\n",
      "['門前便是家山道', '門前便是嵩山路', '門前青山路', '門前便是仙山路'] \n",
      "\n",
      "['先皇曾向此中游', '曾向此中游', '神仙曾向此中游', '曾向此中行'] \n",
      "\n",
      "['不知誰是非', '不知誰是癡', '不知誰是豔陽才', '不知誰是謫仙才'] \n",
      "\n",
      "['無人知是舊', '人知我是誰', '無人知我是真仙', '無人知我來'] \n",
      "\n",
      "['何必三山外', '仙駕三山上', '何必匡山上', '尋仙何必三山上'] \n",
      "\n",
      "['不逢寒風子', '是日逢仙子', '是日逢仙子', '不逢仙子'] \n",
      "\n",
      "['望仙駕', '望神駕', '望仙駕'] \n",
      "\n",
      "['降雲宮', '降仙宮', '降雲宮'] \n",
      "\n",
      "['故人儻相存', '仙人相存', '仙人相存'] \n",
      "\n",
      "['新花重疊開', '新花重疊開', '仙桂丹花重疊開'] \n",
      "\n",
      "['仙人樓上鳳凰飛', '樓上鳳凰飛去後', '仙影鳳凰飛'] \n",
      "\n",
      "['華陽仙洞口', '華陽洞口片雲飛', '共笑華陽洞天口'] \n",
      "\n",
      "['授以煉藥說', '授以仙藥', '授以神藥'] \n",
      "\n",
      "['仙人不見我', '仙人不可見', '人不見'] \n",
      "\n",
      "['一片仙雲入帝鄉', '隨雲入帝鄉', '彩雲入帝鄉'] \n",
      "\n",
      "['鄉山何處是', '三山何處是仙洲', '鄉山何處是'] \n",
      "\n",
      "['眼見仙丹求不得', '眼見歸不得', '眼見不得嘗'] \n",
      "\n",
      "['流水洞中聞', '流水落花中', '流水飛花仙洞中'] \n",
      "\n",
      "['虜酒千鐘不醉人', '仙酒不醉人', '有酒不醉真癡人'] \n",
      "\n",
      "['人間未有名', '仙果人間都未有', '人間都未識'] \n",
      "\n",
      "['中有高人住', '中有學仙人', '郭中時有仙人住'] \n",
      "\n",
      "['白衣一居士', '白衣居士紫芝仙', '白衣居士訪'] \n",
      "\n",
      "['洞中開日月', '洞中日月洞中仙', '詩中日月酒中仙'] \n",
      "\n",
      "['自有仙才自不知', '成仙自不知', '名遂功成自不知'] \n",
      "\n",
      "['春尋采藥翁', '閑尋采藥處', '仙境閑尋采藥翁'] \n",
      "\n",
      "['孤舟不可尋', '豈是仙舟不可尋', '仙舟不可見'] \n",
      "\n",
      "['春來已舞腰', '春來似舞腰', '仙樂春來按舞腰'] \n",
      "\n",
      "['三千功滿仙升去', '三千功滿好歸去', '三千功滿去升天'] \n",
      "\n",
      "['海上使君歸', '海上有仙山', '海上仙山屬使君'] \n",
      "\n",
      "['時有故人來', '時有至人來', '時有仙人來打門'] \n",
      "\n",
      "['紫府靜沉沉', '紫府靜沉沉', '峨嵋仙府靜沉沉'] \n",
      "\n",
      "['遙思李郭仙', '還陪李郭舟', '李郭仙舟'] \n",
      "\n",
      "['叢簧發仙弄', '叢簧發天弄'] \n",
      "\n",
      "['願作鴛鴦不羨仙', '願作鴛鴦被'] \n",
      "\n",
      "['汝去幾時來', '仙槎一去幾時來'] \n",
      "\n",
      "['仙史高臺十二重', '樓臺十二重'] \n",
      "\n",
      "['酒中別有神', '山中別有神仙地'] \n",
      "\n",
      "['玉醴浮金菊', '玉醴浮仙菊'] \n",
      "\n",
      "['何處夢回', '仙槎何處回'] \n",
      "\n",
      "['東風吹雪舞山家', '東風吹雪舞仙家'] \n",
      "\n",
      "['神仙久留滯', '神之久留'] \n",
      "\n",
      "['仙尉其何如', '其何如'] \n",
      "\n",
      "['五雲抱仙殿', '五雲抱山殿'] \n",
      "\n",
      "['我思仙人乃在碧海之東隅', '乃在碧海之東隅'] \n",
      "\n",
      "['遙見仙人彩雲裏', '佳人彩雲裏'] \n",
      "\n",
      "['仙台應有期', '瑤台應有再來期'] \n",
      "\n",
      "['青蓮居士謫仙人', '青蓮三居士'] \n",
      "\n",
      "['昔有道士求神仙', '昔有葉道士'] \n",
      "\n",
      "['始知萬族無不有', '始知仙事無不有'] \n",
      "\n",
      "['仙鶴下人間', '下顧人間'] \n",
      "\n",
      "['仙家犬吠白雲間', '將犬白雲間'] \n",
      "\n",
      "['雞犬逐人靜', '仙犬逐人靜'] \n",
      "\n",
      "['姓字今為第幾仙', '今為第幾生'] \n",
      "\n",
      "['送君不相見', '到君仙洞不相見'] \n",
      "\n",
      "['高住最高處', '仙人住在最高處'] \n",
      "\n",
      "['貌棱棱', '仙貌玉棱棱'] \n",
      "\n",
      "['郎官能賦許依投', '仙郎能賦許依投'] \n",
      "\n",
      "['年年三十升仙人', '年年三十騎'] \n",
      "\n",
      "['招邀屢有期', '仙侶招邀自有期'] \n",
      "\n",
      "['眾香天上梵仙宮', '眾香天上梵王宮'] \n",
      "\n",
      "['春山仙掌百花開', '山中百花開'] \n",
      "\n",
      "['未放歸仙去', '放汝歸去'] \n",
      "\n",
      "['況是清秋日', '況是清秋仙府間'] \n",
      "\n",
      "['不言仙', '不言藥'] \n",
      "\n",
      "['娉婷十五六', '娉婷十五勝天仙'] \n",
      "\n",
      "['不知青春度', '不知仙客占青春'] \n",
      "\n",
      "['仙人居其中', '人乃居其中'] \n",
      "\n",
      "['天下率如此', '神仙天下亦如此'] \n",
      "\n",
      "['功高萬古', '高羅萬古仙'] \n",
      "\n",
      "['莫辭東路遠', '努力莫辭仙路遠'] \n",
      "\n",
      "['珠玉夜珊珊', '玉仙瑤瑟夜珊珊'] \n",
      "\n",
      "['重看一局棋', '曾看仙人一局棋'] \n",
      "\n",
      "['洞裏仙春日更長', '春殘日更長'] \n",
      "\n",
      "['對月時吹笙', '仙妃對月閑吹笙'] \n",
      "\n",
      "['天下有仙名', '天下有道'] \n",
      "\n",
      "['閑眠閉草堂', '仙老閑眠碧草堂'] \n",
      "\n",
      "['夜渚月明', '仙階夜月明'] \n",
      "\n",
      "['人家本自稀', '人世仙家本自殊'] \n",
      "\n",
      "['仙漏遲遲出建章', '漏出建章遲'] \n",
      "\n",
      "['高臥掩柴扉', '仙都高處掩柴扉'] \n",
      "\n",
      "['神歸碧落', '要伴神仙歸碧落'] \n",
      "\n",
      "['嘗聞古老言', '嘗聞仙老言'] \n",
      "\n",
      "['來事紫陽君', '仙鄉來禮紫陽君'] \n",
      "\n",
      "['變化誰能了', '仙家變化誰能測'] \n",
      "\n",
      "['此去臨溪不是遙', '此去仙源不是遙'] \n",
      "\n",
      "['蓬萊清淺水仙家', '蓬萊向清淺'] \n",
      "\n",
      "['仿佛列山群', '仿佛列仙群'] \n",
      "\n",
      "['但問有意無', '只問仙郎有意無'] \n",
      "\n",
      "['移根此地來', '移得仙居此地來'] \n",
      "\n",
      "['武陵何處在', '武陵何處訪仙鄉'] \n",
      "\n",
      "['洞庭山上橘', '洞庭仙山但生橘'] \n",
      "\n",
      "['手胼足胝', '仙人手胼胝'] \n",
      "\n",
      "['看雲忽見仙', '看雲忽見山'] \n",
      "\n",
      "['梨花滿地不開門', '仙花滿地開'] \n",
      "\n",
      "['當時不得將軍力', '當時不得仙桃力'] \n",
      "\n",
      "['誰識謫仙人', '誰識天人'] \n",
      "\n"
     ]
    }
   ],
   "source": [
    "xian_substituted65 = []\n",
    "for group in tqdm(no_duplicates65):\n",
    "    if len(group) > len([i for i in group if '仙' in i[1]]):\n",
    "        xian_substituted65.append(group)\n",
    "\n",
    "print (f\"There are {len(xian_substituted65)} cases in 65% similar lines where xian is substituted.\\n\")\n",
    "\n",
    "for i in sorted(xian_substituted65, key=len, reverse=True):\n",
    "    group = [n[1] for n in i]\n",
    "    print(group, '\\n')"
   ]
  },
  {
   "cell_type": "markdown",
   "metadata": {},
   "source": [
    "## 60% similarity"
   ]
  },
  {
   "cell_type": "code",
   "execution_count": 129,
   "metadata": {},
   "outputs": [
    {
     "data": {
      "application/vnd.jupyter.widget-view+json": {
       "model_id": "567170cbce6f421fbd65c10b993d1e66",
       "version_major": 2,
       "version_minor": 0
      },
      "text/plain": [
       "HBox(children=(HTML(value=''), FloatProgress(value=0.0, max=414.0), HTML(value='')))"
      ]
     },
     "metadata": {},
     "output_type": "display_data"
    },
    {
     "name": "stdout",
     "output_type": "stream",
     "text": [
      "\n"
     ]
    }
   ],
   "source": [
    "xian_substituted60 = []\n",
    "for group in tqdm(no_duplicates2):\n",
    "    if len(group) > len([i for i in group if '仙' in i[1]]):\n",
    "        xian_substituted60.append(group)"
   ]
  },
  {
   "cell_type": "code",
   "execution_count": 130,
   "metadata": {},
   "outputs": [
    {
     "name": "stdout",
     "output_type": "stream",
     "text": [
      "There are 131 cases in 60% similar lines where xian is substituted.\n"
     ]
    }
   ],
   "source": [
    "print (f\"There are {len(xian_substituted60)} cases in 60% similar lines where xian is substituted.\")"
   ]
  },
  {
   "cell_type": "code",
   "execution_count": 131,
   "metadata": {},
   "outputs": [
    {
     "name": "stdout",
     "output_type": "stream",
     "text": [
      "['故人不可見', '故人不可見', '故人不可見', '西憶故人不可見', '故人不可見', '仙人不見我', '此人不可見', '京師故人不可見', '古人不可見', '上仙不可見', '故人不可見', '故人不可見', '遊人不可見', '故人不可見', '人間想望不可見', '海上仙遊不可見', '仙人不可見', '仙舟不可見', '人不見', '神仙不可見'] \n",
      "\n",
      "['不知何處火', '不知何處恨', '不知何處去', '不知何處葬', '不知此何處', '不知何處歸', '不知精爽歸何處', '不知仙駕歸何處', '不知此地歸何處', '不知何處笛', '不知雲雨歸何處', '不知雲雨歸何處', '仙馭歸何處', '不知何處峰', '不知何處相尋', '不知功滿歸何處', '不知何處', '去去不知何處', '不知何處火'] \n",
      "\n",
      "['不知何處火', '仙源不知處', '不知何處恨', '不知何處去', '不知何處葬', '不知此何處', '不知何處歸', '仙吏不知何處隱', '不知何處笛', '不知何處峰', '不知何處相尋', '不知何處', '去去不知何處', '不知何處火'] \n",
      "\n",
      "['不知何處火', '不知何處恨', '不知何處去', '不知何處葬', '不知此何處', '不知何處歸', '不知何處笛', '不知何處峰', '不知何處相尋', '不知何處是天真', '不知何處偶真仙', '不知何處', '去去不知何處', '不知何處火'] \n",
      "\n",
      "['歌宛轉', '歌宛轉', '歌宛轉', '歌宛轉', '歌宛轉', '歌宛轉', '仙歌宛轉聽', '仙歌宛轉聽', '歌宛轉', '歌宛轉', '歌宛轉', '歌宛轉'] \n",
      "\n",
      "['神仙中人不易得', '神仙望見不得到', '不可得', '神仙不可求', '神仙不可得', '神仙不可學', '聞道神仙不可接', '神仙不可見'] \n",
      "\n",
      "['笑問客從何處來', '暗從何處來', '問從何處來', '子從何處來', '又從何處來', '幽鳥晚從何處來', '三從何處來', '仙從何處來'] \n",
      "\n",
      "['仙雲在何處', '仙雲在何處', '在何處', '欲問神仙在何處', '兩漢真仙在何處', '孤雲自在知何處', '雲中有寺在何處'] \n",
      "\n",
      "['自言神訣不可求', '神仙不可求', '神仙不可得', '神仙不可學', '聞道神仙不可接', '神仙不可見', '仙笙不可求'] \n",
      "\n",
      "['可中得似紅兒貌', '得似紅兒今日貌', '神仙得似紅兒貌', '稍教得似紅兒貌', '若教得似紅兒貌', '若教得似紅兒貌', '阿嬌得似紅兒貌'] \n",
      "\n",
      "['勸此一杯酒', '勸爾一杯酒', '遙勸仙人一杯酒', '勸僧一杯酒', '勸爾一杯酒', '勸爾一杯酒'] \n",
      "\n",
      "['仙宮一閉無消息', '一月無消息', '一別無消息', '一月無消息', '一別無消息', '一去無消息'] \n",
      "\n",
      "['通籍入金閨', '通籍在金閨', '通籍盡金閨', '通籍在金閨', '籍在金閨內', '已通仙籍在金閨'] \n",
      "\n",
      "['上仙不可見', '遊人不可見', '海上仙遊不可見', '仙人不可見', '仙舟不可見', '神仙不可見'] \n",
      "\n",
      "['靈仙仿佛', '靈仙如仿佛', '夢靈仿佛到', '仙佛肖仿佛', '靈境若仿佛'] \n",
      "\n",
      "['仙家日月長', '仙家日月長', '卻厭仙家日月長', '此地安家日月長', '仙家日月蓬壺裏'] \n",
      "\n",
      "['三十六峰晴', '三十六峰仙鶴老', '三十六峰前', '三十六峰鄰', '三十六峰前'] \n",
      "\n",
      "['別自有仙家', '壺中別有日月天', '應是壺中別有家', '壺中別有仙家日', '應是壺中別有家'] \n",
      "\n",
      "['曉上青樓十二重', '青樓十二重', '正上仙樓十二重', '玉樓十二重', '樓臺十二重'] \n",
      "\n",
      "['月中有桂樹', '月中有桂樹', '月中分桂樹', '不得月中桂', '想得月中仙桂樹'] \n",
      "\n",
      "['卻向人間作酒徒', '人間作散仙', '且向人間作酒仙', '罰向人間作酒狂', '謫向人間作酒狂'] \n",
      "\n",
      "['今夜神仙女', '日聽神仙說', '今日海神朝', '今日神仙', '神仙'] \n",
      "\n",
      "['我思仙人', '呼我謫仙人', '我思何人知', '我思攜手人'] \n",
      "\n",
      "['人面不知何處在', '仙人何處在', '美人何處在', '悵望佳人何處在'] \n",
      "\n",
      "['願作鴛鴦不羨仙', '願作鴛鴦被', '願作墳上鴛鴦', '永願作鴛鴦伴'] \n",
      "\n",
      "['雲歸帝鄉遠', '白雲歸處帝鄉遙', '雲歸仙帝鄉', '心似白雲歸帝鄉'] \n",
      "\n",
      "['仙駕飄颻不可期', '仙成不可期', '仙駕不可望', '飄颻不可覿'] \n",
      "\n",
      "['仙源不知處', '仙吏不知何處隱', '仙骨寒消不知處', '不知何處'] \n",
      "\n",
      "['門前便是家山道', '門前便是嵩山路', '門前青山路', '門前便是仙山路'] \n",
      "\n",
      "['先皇曾向此中游', '曾向此中游', '神仙曾向此中游', '曾向此中行'] \n",
      "\n",
      "['不知誰是非', '不知誰是癡', '不知誰是豔陽才', '不知誰是謫仙才'] \n",
      "\n",
      "['無人知是舊', '人知我是誰', '無人知我是真仙', '無人知我來'] \n",
      "\n",
      "['何必三山外', '仙駕三山上', '何必匡山上', '尋仙何必三山上'] \n",
      "\n",
      "['不逢寒風子', '是日逢仙子', '是日逢仙子', '不逢仙子'] \n",
      "\n",
      "['望仙駕', '望神駕', '望仙駕'] \n",
      "\n",
      "['降雲宮', '降仙宮', '降雲宮'] \n",
      "\n",
      "['故人儻相存', '仙人相存', '仙人相存'] \n",
      "\n",
      "['新花重疊開', '新花重疊開', '仙桂丹花重疊開'] \n",
      "\n",
      "['仙人樓上鳳凰飛', '樓上鳳凰飛去後', '仙影鳳凰飛'] \n",
      "\n",
      "['華陽仙洞口', '華陽洞口片雲飛', '共笑華陽洞天口'] \n",
      "\n",
      "['授以煉藥說', '授以仙藥', '授以神藥'] \n",
      "\n",
      "['仙人不見我', '仙人不可見', '人不見'] \n",
      "\n",
      "['一片仙雲入帝鄉', '隨雲入帝鄉', '彩雲入帝鄉'] \n",
      "\n",
      "['鄉山何處是', '三山何處是仙洲', '鄉山何處是'] \n",
      "\n",
      "['眼見仙丹求不得', '眼見歸不得', '眼見不得嘗'] \n",
      "\n",
      "['流水洞中聞', '流水落花中', '流水飛花仙洞中'] \n",
      "\n",
      "['虜酒千鐘不醉人', '仙酒不醉人', '有酒不醉真癡人'] \n",
      "\n",
      "['人間未有名', '仙果人間都未有', '人間都未識'] \n",
      "\n",
      "['中有高人住', '中有學仙人', '郭中時有仙人住'] \n",
      "\n",
      "['白衣一居士', '白衣居士紫芝仙', '白衣居士訪'] \n",
      "\n",
      "['洞中開日月', '洞中日月洞中仙', '詩中日月酒中仙'] \n",
      "\n",
      "['自有仙才自不知', '成仙自不知', '名遂功成自不知'] \n",
      "\n",
      "['春尋采藥翁', '閑尋采藥處', '仙境閑尋采藥翁'] \n",
      "\n",
      "['孤舟不可尋', '豈是仙舟不可尋', '仙舟不可見'] \n",
      "\n",
      "['春來已舞腰', '春來似舞腰', '仙樂春來按舞腰'] \n",
      "\n",
      "['三千功滿仙升去', '三千功滿好歸去', '三千功滿去升天'] \n",
      "\n",
      "['海上使君歸', '海上有仙山', '海上仙山屬使君'] \n",
      "\n",
      "['桃源訪仙宮', '桃源深洞訪仙才', '曾宴桃源深洞'] \n",
      "\n",
      "['時有故人來', '時有至人來', '時有仙人來打門'] \n",
      "\n",
      "['紫府靜沉沉', '紫府靜沉沉', '峨嵋仙府靜沉沉'] \n",
      "\n",
      "['遙思李郭仙', '還陪李郭舟', '李郭仙舟'] \n",
      "\n",
      "['人間有路入仙家', '人間無路相逢', '人間無路到仙家'] \n",
      "\n",
      "['叢簧發仙弄', '叢簧發天弄'] \n",
      "\n",
      "['汝去幾時來', '仙槎一去幾時來'] \n",
      "\n",
      "['仙史高臺十二重', '樓臺十二重'] \n",
      "\n",
      "['酒中別有神', '山中別有神仙地'] \n",
      "\n",
      "['玉醴浮金菊', '玉醴浮仙菊'] \n",
      "\n",
      "['何處夢回', '仙槎何處回'] \n",
      "\n",
      "['東風吹雪舞山家', '東風吹雪舞仙家'] \n",
      "\n",
      "['神仙久留滯', '神之久留'] \n",
      "\n",
      "['鸞歌鳳舞兮吹參差', '鸞歌鳳舞兮期仙磴'] \n",
      "\n",
      "['山中人兮好神仙', '山中人兮欲歸'] \n",
      "\n",
      "['不辨仙源何處尋', '不知何處相尋'] \n",
      "\n",
      "['仙尉其何如', '其何如'] \n",
      "\n",
      "['五雲抱仙殿', '五雲抱山殿'] \n",
      "\n",
      "['我思仙人乃在碧海之東隅', '乃在碧海之東隅'] \n",
      "\n",
      "['遙見仙人彩雲裏', '佳人彩雲裏'] \n",
      "\n",
      "['仙台應有期', '瑤台應有再來期'] \n",
      "\n",
      "['青蓮居士謫仙人', '青蓮三居士'] \n",
      "\n",
      "['昔有道士求神仙', '昔有葉道士'] \n",
      "\n",
      "['始知萬族無不有', '始知仙事無不有'] \n",
      "\n",
      "['仙鶴下人間', '下顧人間'] \n",
      "\n",
      "['仙家犬吠白雲間', '將犬白雲間'] \n",
      "\n",
      "['雞犬逐人靜', '仙犬逐人靜'] \n",
      "\n",
      "['姓字今為第幾仙', '今為第幾生'] \n",
      "\n",
      "['送君不相見', '到君仙洞不相見'] \n",
      "\n",
      "['高住最高處', '仙人住在最高處'] \n",
      "\n",
      "['貌棱棱', '仙貌玉棱棱'] \n",
      "\n",
      "['郎官能賦許依投', '仙郎能賦許依投'] \n",
      "\n",
      "['年年三十升仙人', '年年三十騎'] \n",
      "\n",
      "['招邀屢有期', '仙侶招邀自有期'] \n",
      "\n",
      "['眾香天上梵仙宮', '眾香天上梵王宮'] \n",
      "\n",
      "['春山仙掌百花開', '山中百花開'] \n",
      "\n",
      "['未放歸仙去', '放汝歸去'] \n",
      "\n",
      "['況是清秋日', '況是清秋仙府間'] \n",
      "\n",
      "['捍撥裝金打仙鳳', '捍撥雙盤金鳳'] \n",
      "\n",
      "['不言仙', '不言藥'] \n",
      "\n",
      "['娉婷十五六', '娉婷十五勝天仙'] \n",
      "\n",
      "['不知青春度', '不知仙客占青春'] \n",
      "\n",
      "['仙人居其中', '人乃居其中'] \n",
      "\n",
      "['天下率如此', '神仙天下亦如此'] \n",
      "\n",
      "['功高萬古', '高羅萬古仙'] \n",
      "\n",
      "['莫辭東路遠', '努力莫辭仙路遠'] \n",
      "\n",
      "['珠玉夜珊珊', '玉仙瑤瑟夜珊珊'] \n",
      "\n",
      "['重看一局棋', '曾看仙人一局棋'] \n",
      "\n",
      "['佩隨香兮夜聞', '幽佩仙香半夜聞'] \n",
      "\n",
      "['洞裏仙春日更長', '春殘日更長'] \n",
      "\n",
      "['對月時吹笙', '仙妃對月閑吹笙'] \n",
      "\n",
      "['天下有仙名', '天下有道'] \n",
      "\n",
      "['閑眠閉草堂', '仙老閑眠碧草堂'] \n",
      "\n",
      "['夜渚月明', '仙階夜月明'] \n",
      "\n",
      "['人家本自稀', '人世仙家本自殊'] \n",
      "\n",
      "['仙漏遲遲出建章', '漏出建章遲'] \n",
      "\n",
      "['高臥掩柴扉', '仙都高處掩柴扉'] \n",
      "\n",
      "['蕊珠宮裏謫神仙', '住在蕊珠宮裏'] \n",
      "\n",
      "['神歸碧落', '要伴神仙歸碧落'] \n",
      "\n",
      "['嘗聞古老言', '嘗聞仙老言'] \n",
      "\n",
      "['來事紫陽君', '仙鄉來禮紫陽君'] \n",
      "\n",
      "['變化誰能了', '仙家變化誰能測'] \n",
      "\n",
      "['此去臨溪不是遙', '此去仙源不是遙'] \n",
      "\n",
      "['蓬萊清淺水仙家', '蓬萊向清淺'] \n",
      "\n",
      "['仿佛列山群', '仿佛列仙群'] \n",
      "\n",
      "['但問有意無', '只問仙郎有意無'] \n",
      "\n",
      "['移根此地來', '移得仙居此地來'] \n",
      "\n",
      "['武陵何處在', '武陵何處訪仙鄉'] \n",
      "\n",
      "['洞庭山上橘', '洞庭仙山但生橘'] \n",
      "\n",
      "['手胼足胝', '仙人手胼胝'] \n",
      "\n",
      "['看雲忽見仙', '看雲忽見山'] \n",
      "\n",
      "['梨花滿地不開門', '仙花滿地開'] \n",
      "\n",
      "['當時不得將軍力', '當時不得仙桃力'] \n",
      "\n",
      "['誰識謫仙人', '誰識天人'] \n",
      "\n"
     ]
    }
   ],
   "source": [
    "for i in sorted(xian_substituted60, key=len, reverse=True):\n",
    "    group = [n[1] for n in i]\n",
    "    print(group,'\\n')"
   ]
  },
  {
   "cell_type": "code",
   "execution_count": null,
   "metadata": {},
   "outputs": [],
   "source": []
  }
 ],
 "metadata": {
  "kernelspec": {
   "display_name": "thesis",
   "language": "python",
   "name": "thesis"
  },
  "language_info": {
   "codemirror_mode": {
    "name": "ipython",
    "version": 3
   },
   "file_extension": ".py",
   "mimetype": "text/x-python",
   "name": "python",
   "nbconvert_exporter": "python",
   "pygments_lexer": "ipython3",
   "version": "3.8.5"
  },
  "toc": {
   "base_numbering": 1,
   "nav_menu": {},
   "number_sections": true,
   "sideBar": true,
   "skip_h1_title": false,
   "title_cell": "Table of Contents",
   "title_sidebar": "Contents",
   "toc_cell": true,
   "toc_position": {
    "height": "calc(100% - 180px)",
    "left": "10px",
    "top": "150px",
    "width": "261.818px"
   },
   "toc_section_display": true,
   "toc_window_display": true
  }
 },
 "nbformat": 4,
 "nbformat_minor": 4
}
